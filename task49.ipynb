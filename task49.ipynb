{
 "cells": [
  {
   "cell_type": "markdown",
   "metadata": {},
   "source": [
    "**Task 49 of Unilecs in VK**"
   ]
  },
  {
   "cell_type": "markdown",
   "metadata": {},
   "source": [
    "Модуль для рандомной генерации тестовых данных."
   ]
  },
  {
   "cell_type": "code",
   "execution_count": 1,
   "metadata": {},
   "outputs": [],
   "source": [
    "import random"
   ]
  },
  {
   "cell_type": "markdown",
   "metadata": {},
   "source": [
    "Суть решения: кол-во номеров для болельщиков одной команды\n",
    "будет равно A // K + 1, где A - кол-во болельщиков, при условии,\n",
    "что A % K != 0. В противном случае ответ будет A / K."
   ]
  },
  {
   "cell_type": "code",
   "execution_count": 2,
   "metadata": {},
   "outputs": [],
   "source": [
    "def task49(N : int, M : int, K : int) -> int:\n",
    "\n",
    "    # Проверка пригодности данных для задачи\n",
    "    \n",
    "    if (N < 1) or (M < 1) or (K < 1) or (N > 10000) or (M > 10000) or (K > 10000):\n",
    "        raise ValueError('N, M and K must be in [1, 10000]')\n",
    "\n",
    "    answer = 0\n",
    "    \n",
    "    if N % K == 0:\n",
    "        answer += N / K\n",
    "    else:\n",
    "        answer += N // K + 1    \n",
    "\n",
    "    if M % K == 0:\n",
    "        answer += M / K\n",
    "    else:\n",
    "        answer += M // K + 1\n",
    "        \n",
    "    # Обычное деление возвращает float, откидываем часть .0.  \n",
    "    return int(answer)   "
   ]
  },
  {
   "cell_type": "markdown",
   "metadata": {},
   "source": [
    "Создадим генератор случайных чисел, которых будет генерировать\n",
    "кортеж длиной 3, значениями полей которого будут числа в промежутке [1, 10000]"
   ]
  },
  {
   "cell_type": "code",
   "execution_count": 3,
   "metadata": {},
   "outputs": [],
   "source": [
    "def generate_data(N):\n",
    "    start = 1\n",
    "    end = 5\n",
    "    \n",
    "    if end > 10000:\n",
    "        return\n",
    "    for i in range(N):\n",
    "        n = random.randint(start, end)\n",
    "        m = random.randint(start, end)\n",
    "        k = random.randint(start, end)\n",
    "\n",
    "        start += 2; end += 10;\n",
    "        yield n, m, k"
   ]
  },
  {
   "cell_type": "markdown",
   "metadata": {},
   "source": [
    "Для изменения кол-ва тестовых наборов измените параметр N в generate_data."
   ]
  },
  {
   "cell_type": "code",
   "execution_count": 4,
   "metadata": {},
   "outputs": [
    {
     "name": "stdout",
     "output_type": "stream",
     "text": [
      "Answer for (4, 1, 5) is 2\n",
      "Answer for (12, 8, 4) is 5\n",
      "Answer for (17, 16, 24) is 2\n",
      "Answer for (34, 8, 33) is 3\n",
      "Answer for (39, 28, 12) is 7\n",
      "Answer for (49, 26, 33) is 3\n",
      "Answer for (17, 25, 60) is 2\n",
      "Answer for (60, 28, 52) is 3\n",
      "Answer for (55, 40, 53) is 3\n",
      "Answer for (43, 55, 45) is 3\n"
     ]
    }
   ],
   "source": [
    "test_data = generate_data(10)\n",
    "\n",
    "# Тестируем алгоритм на случайных данных\n",
    "for data in test_data:\n",
    "    print('Answer for {0} is {1}'.format(data, task49(*data)))"
   ]
  },
  {
   "cell_type": "markdown",
   "metadata": {},
   "source": [
    "Для единичного вызова функции воспользуйтесь конструкцией print(task49(N, M, K)), где N, M, K - тестовые данные.   \n",
    "Весь код для моментального копирования предоставлен ниже."
   ]
  },
  {
   "cell_type": "code",
   "execution_count": 5,
   "metadata": {},
   "outputs": [
    {
     "name": "stdout",
     "output_type": "stream",
     "text": [
      "Answer for (3, 1, 5) is 2\n",
      "Answer for (13, 10, 10) is 3\n",
      "Answer for (12, 10, 12) is 2\n",
      "Answer for (14, 27, 22) is 3\n",
      "Answer for (12, 10, 32) is 2\n",
      "Answer for (55, 51, 12) is 10\n",
      "Answer for (62, 26, 51) is 3\n",
      "Answer for (61, 55, 44) is 4\n",
      "Answer for (78, 49, 38) is 5\n",
      "Answer for (85, 19, 22) is 5\n"
     ]
    }
   ],
   "source": [
    "import random\n",
    "\n",
    "def task49(N : int, M : int, K : int) -> int:\n",
    "    \n",
    "    if (N < 1) or (M < 1) or (K < 1) or (N > 10000) or (M > 10000) or (K > 10000):\n",
    "        raise ValueError('N, M and K must be in [1, 10000]')\n",
    "\n",
    "    answer = 0\n",
    "    \n",
    "    if N % K == 0:\n",
    "        answer += N / K\n",
    "    else:\n",
    "        answer += N // K + 1    \n",
    "\n",
    "    if M % K == 0:\n",
    "        answer += M / K\n",
    "    else:\n",
    "        answer += M // K + 1\n",
    "        \n",
    "    # Обычное деление возвращает float, откидываем часть .0.  \n",
    "    return int(answer)   \n",
    "\n",
    "def generate_data(N):\n",
    "    start = 1\n",
    "    end = 5\n",
    "    \n",
    "    if end > 10000:\n",
    "        return\n",
    "    for i in range(N):\n",
    "        n = random.randint(start, end)\n",
    "        m = random.randint(start, end)\n",
    "        k = random.randint(start, end)\n",
    "\n",
    "        start += 2; end += 10;\n",
    "        yield n, m, k\n",
    "\n",
    "test_data = generate_data(10)\n",
    "\n",
    "for data in test_data:\n",
    "    print('Answer for {0} is {1}'.format(data, task49(*data)))  "
   ]
  },
  {
   "cell_type": "code",
   "execution_count": null,
   "metadata": {},
   "outputs": [],
   "source": []
  }
 ],
 "metadata": {
  "kernelspec": {
   "display_name": "Python 3",
   "language": "python",
   "name": "python3"
  },
  "language_info": {
   "codemirror_mode": {
    "name": "ipython",
    "version": 3
   },
   "file_extension": ".py",
   "mimetype": "text/x-python",
   "name": "python",
   "nbconvert_exporter": "python",
   "pygments_lexer": "ipython3",
   "version": "3.5.2"
  }
 },
 "nbformat": 4,
 "nbformat_minor": 2
}
